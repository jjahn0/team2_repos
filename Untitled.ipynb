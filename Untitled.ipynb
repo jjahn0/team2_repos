{
 "cells": [
  {
   "cell_type": "code",
   "execution_count": 43,
   "metadata": {},
   "outputs": [],
   "source": [
    "import pandas as pd\n",
    "import numpy as np\n",
    "import matplotlib.pyplot as plt\n",
    "import os\n",
    "import seaborn as sns"
   ]
  },
  {
   "cell_type": "code",
   "execution_count": 44,
   "metadata": {},
   "outputs": [
    {
     "data": {
      "text/html": [
       "<div>\n",
       "<style scoped>\n",
       "    .dataframe tbody tr th:only-of-type {\n",
       "        vertical-align: middle;\n",
       "    }\n",
       "\n",
       "    .dataframe tbody tr th {\n",
       "        vertical-align: top;\n",
       "    }\n",
       "\n",
       "    .dataframe thead th {\n",
       "        text-align: right;\n",
       "    }\n",
       "</style>\n",
       "<table border=\"1\" class=\"dataframe\">\n",
       "  <thead>\n",
       "    <tr style=\"text-align: right;\">\n",
       "      <th></th>\n",
       "      <th>State</th>\n",
       "      <th>Gun Supplier Count</th>\n",
       "    </tr>\n",
       "  </thead>\n",
       "  <tbody>\n",
       "    <tr>\n",
       "      <th>0</th>\n",
       "      <td>Alaska</td>\n",
       "      <td>528</td>\n",
       "    </tr>\n",
       "    <tr>\n",
       "      <th>1</th>\n",
       "      <td>Alabama</td>\n",
       "      <td>1043</td>\n",
       "    </tr>\n",
       "    <tr>\n",
       "      <th>2</th>\n",
       "      <td>Arkansas</td>\n",
       "      <td>1087</td>\n",
       "    </tr>\n",
       "    <tr>\n",
       "      <th>3</th>\n",
       "      <td>Arizona</td>\n",
       "      <td>1668</td>\n",
       "    </tr>\n",
       "    <tr>\n",
       "      <th>4</th>\n",
       "      <td>California</td>\n",
       "      <td>2224</td>\n",
       "    </tr>\n",
       "  </tbody>\n",
       "</table>\n",
       "</div>"
      ],
      "text/plain": [
       "        State  Gun Supplier Count\n",
       "0      Alaska                 528\n",
       "1     Alabama                1043\n",
       "2    Arkansas                1087\n",
       "3     Arizona                1668\n",
       "4  California                2224"
      ]
     },
     "execution_count": 44,
     "metadata": {},
     "output_type": "execute_result"
    }
   ],
   "source": [
    "license_count = os.path.join(\"Resources\", \"group_license_count.csv\")\n",
    "license_count_df = pd.read_csv(license_count)\n",
    "license_count_df.head()"
   ]
  },
  {
   "cell_type": "code",
   "execution_count": 45,
   "metadata": {
    "scrolled": true
   },
   "outputs": [
    {
     "data": {
      "text/html": [
       "<div>\n",
       "<style scoped>\n",
       "    .dataframe tbody tr th:only-of-type {\n",
       "        vertical-align: middle;\n",
       "    }\n",
       "\n",
       "    .dataframe tbody tr th {\n",
       "        vertical-align: top;\n",
       "    }\n",
       "\n",
       "    .dataframe thead th {\n",
       "        text-align: right;\n",
       "    }\n",
       "</style>\n",
       "<table border=\"1\" class=\"dataframe\">\n",
       "  <thead>\n",
       "    <tr style=\"text-align: right;\">\n",
       "      <th></th>\n",
       "      <th>State</th>\n",
       "      <th>Population</th>\n",
       "      <th>income per capita</th>\n",
       "      <th>unemployment_rate(%)</th>\n",
       "      <th>poverty_rate(%)</th>\n",
       "      <th>no_college_education_rate(%)</th>\n",
       "    </tr>\n",
       "  </thead>\n",
       "  <tbody>\n",
       "    <tr>\n",
       "      <th>0</th>\n",
       "      <td>Alabama</td>\n",
       "      <td>4817678.0</td>\n",
       "      <td>23936.0</td>\n",
       "      <td>4.747432</td>\n",
       "      <td>18.467610</td>\n",
       "      <td>17.988957</td>\n",
       "    </tr>\n",
       "    <tr>\n",
       "      <th>1</th>\n",
       "      <td>Alaska</td>\n",
       "      <td>728300.0</td>\n",
       "      <td>33129.0</td>\n",
       "      <td>4.407112</td>\n",
       "      <td>9.867637</td>\n",
       "      <td>14.591377</td>\n",
       "    </tr>\n",
       "    <tr>\n",
       "      <th>2</th>\n",
       "      <td>Arizona</td>\n",
       "      <td>6561516.0</td>\n",
       "      <td>25537.0</td>\n",
       "      <td>4.634097</td>\n",
       "      <td>17.820714</td>\n",
       "      <td>14.217233</td>\n",
       "    </tr>\n",
       "    <tr>\n",
       "      <th>3</th>\n",
       "      <td>Arkansas</td>\n",
       "      <td>2947036.0</td>\n",
       "      <td>22595.0</td>\n",
       "      <td>3.905280</td>\n",
       "      <td>18.639168</td>\n",
       "      <td>19.922322</td>\n",
       "    </tr>\n",
       "    <tr>\n",
       "      <th>4</th>\n",
       "      <td>California</td>\n",
       "      <td>38066920.0</td>\n",
       "      <td>29906.0</td>\n",
       "      <td>5.476051</td>\n",
       "      <td>16.064457</td>\n",
       "      <td>13.719686</td>\n",
       "    </tr>\n",
       "  </tbody>\n",
       "</table>\n",
       "</div>"
      ],
      "text/plain": [
       "        State  Population  income per capita  unemployment_rate(%)  \\\n",
       "0     Alabama   4817678.0            23936.0              4.747432   \n",
       "1      Alaska    728300.0            33129.0              4.407112   \n",
       "2     Arizona   6561516.0            25537.0              4.634097   \n",
       "3    Arkansas   2947036.0            22595.0              3.905280   \n",
       "4  California  38066920.0            29906.0              5.476051   \n",
       "\n",
       "   poverty_rate(%)  no_college_education_rate(%)  \n",
       "0        18.467610                     17.988957  \n",
       "1         9.867637                     14.591377  \n",
       "2        17.820714                     14.217233  \n",
       "3        18.639168                     19.922322  \n",
       "4        16.064457                     13.719686  "
      ]
     },
     "execution_count": 45,
     "metadata": {},
     "output_type": "execute_result"
    }
   ],
   "source": [
    "population = os.path.join(\"Resources\", \"us_census_sorted_data.csv\")\n",
    "population_df = pd.read_csv(population)\n",
    "del population_df['Unnamed: 0']\n",
    "population_df = population_df.rename(columns={\"State Name\": \"State\"})\n",
    "population_df.head()"
   ]
  },
  {
   "cell_type": "code",
   "execution_count": 46,
   "metadata": {},
   "outputs": [
    {
     "data": {
      "text/html": [
       "<div>\n",
       "<style scoped>\n",
       "    .dataframe tbody tr th:only-of-type {\n",
       "        vertical-align: middle;\n",
       "    }\n",
       "\n",
       "    .dataframe tbody tr th {\n",
       "        vertical-align: top;\n",
       "    }\n",
       "\n",
       "    .dataframe thead th {\n",
       "        text-align: right;\n",
       "    }\n",
       "</style>\n",
       "<table border=\"1\" class=\"dataframe\">\n",
       "  <thead>\n",
       "    <tr style=\"text-align: right;\">\n",
       "      <th></th>\n",
       "      <th>State</th>\n",
       "      <th>Gun Supplier Count</th>\n",
       "      <th>Population</th>\n",
       "      <th>income per capita</th>\n",
       "      <th>unemployment_rate(%)</th>\n",
       "      <th>poverty_rate(%)</th>\n",
       "      <th>no_college_education_rate(%)</th>\n",
       "    </tr>\n",
       "  </thead>\n",
       "  <tbody>\n",
       "    <tr>\n",
       "      <th>0</th>\n",
       "      <td>Alaska</td>\n",
       "      <td>528</td>\n",
       "      <td>728300.0</td>\n",
       "      <td>33129.0</td>\n",
       "      <td>4.407112</td>\n",
       "      <td>9.867637</td>\n",
       "      <td>14.591377</td>\n",
       "    </tr>\n",
       "    <tr>\n",
       "      <th>1</th>\n",
       "      <td>Alabama</td>\n",
       "      <td>1043</td>\n",
       "      <td>4817678.0</td>\n",
       "      <td>23936.0</td>\n",
       "      <td>4.747432</td>\n",
       "      <td>18.467610</td>\n",
       "      <td>17.988957</td>\n",
       "    </tr>\n",
       "    <tr>\n",
       "      <th>2</th>\n",
       "      <td>Arkansas</td>\n",
       "      <td>1087</td>\n",
       "      <td>2947036.0</td>\n",
       "      <td>22595.0</td>\n",
       "      <td>3.905280</td>\n",
       "      <td>18.639168</td>\n",
       "      <td>19.922322</td>\n",
       "    </tr>\n",
       "    <tr>\n",
       "      <th>3</th>\n",
       "      <td>Arizona</td>\n",
       "      <td>1668</td>\n",
       "      <td>6561516.0</td>\n",
       "      <td>25537.0</td>\n",
       "      <td>4.634097</td>\n",
       "      <td>17.820714</td>\n",
       "      <td>14.217233</td>\n",
       "    </tr>\n",
       "    <tr>\n",
       "      <th>4</th>\n",
       "      <td>California</td>\n",
       "      <td>2224</td>\n",
       "      <td>38066920.0</td>\n",
       "      <td>29906.0</td>\n",
       "      <td>5.476051</td>\n",
       "      <td>16.064457</td>\n",
       "      <td>13.719686</td>\n",
       "    </tr>\n",
       "  </tbody>\n",
       "</table>\n",
       "</div>"
      ],
      "text/plain": [
       "        State  Gun Supplier Count  Population  income per capita  \\\n",
       "0      Alaska                 528    728300.0            33129.0   \n",
       "1     Alabama                1043   4817678.0            23936.0   \n",
       "2    Arkansas                1087   2947036.0            22595.0   \n",
       "3     Arizona                1668   6561516.0            25537.0   \n",
       "4  California                2224  38066920.0            29906.0   \n",
       "\n",
       "   unemployment_rate(%)  poverty_rate(%)  no_college_education_rate(%)  \n",
       "0              4.407112         9.867637                     14.591377  \n",
       "1              4.747432        18.467610                     17.988957  \n",
       "2              3.905280        18.639168                     19.922322  \n",
       "3              4.634097        17.820714                     14.217233  \n",
       "4              5.476051        16.064457                     13.719686  "
      ]
     },
     "execution_count": 46,
     "metadata": {},
     "output_type": "execute_result"
    }
   ],
   "source": [
    "combined_data = pd.merge(license_count_df, population_df, how=\"outer\", on=\"State\")\n",
    "combined_data.head()"
   ]
  },
  {
   "cell_type": "code",
   "execution_count": 47,
   "metadata": {},
   "outputs": [
    {
     "data": {
      "text/html": [
       "<div>\n",
       "<style scoped>\n",
       "    .dataframe tbody tr th:only-of-type {\n",
       "        vertical-align: middle;\n",
       "    }\n",
       "\n",
       "    .dataframe tbody tr th {\n",
       "        vertical-align: top;\n",
       "    }\n",
       "\n",
       "    .dataframe thead th {\n",
       "        text-align: right;\n",
       "    }\n",
       "</style>\n",
       "<table border=\"1\" class=\"dataframe\">\n",
       "  <thead>\n",
       "    <tr style=\"text-align: right;\">\n",
       "      <th></th>\n",
       "      <th>State</th>\n",
       "      <th>Gun Supplier Count</th>\n",
       "      <th>Population</th>\n",
       "      <th>income per capita</th>\n",
       "    </tr>\n",
       "  </thead>\n",
       "  <tbody>\n",
       "    <tr>\n",
       "      <th>0</th>\n",
       "      <td>Alaska</td>\n",
       "      <td>528</td>\n",
       "      <td>728300.0</td>\n",
       "      <td>33129.0</td>\n",
       "    </tr>\n",
       "    <tr>\n",
       "      <th>1</th>\n",
       "      <td>Alabama</td>\n",
       "      <td>1043</td>\n",
       "      <td>4817678.0</td>\n",
       "      <td>23936.0</td>\n",
       "    </tr>\n",
       "    <tr>\n",
       "      <th>2</th>\n",
       "      <td>Arkansas</td>\n",
       "      <td>1087</td>\n",
       "      <td>2947036.0</td>\n",
       "      <td>22595.0</td>\n",
       "    </tr>\n",
       "    <tr>\n",
       "      <th>3</th>\n",
       "      <td>Arizona</td>\n",
       "      <td>1668</td>\n",
       "      <td>6561516.0</td>\n",
       "      <td>25537.0</td>\n",
       "    </tr>\n",
       "    <tr>\n",
       "      <th>4</th>\n",
       "      <td>California</td>\n",
       "      <td>2224</td>\n",
       "      <td>38066920.0</td>\n",
       "      <td>29906.0</td>\n",
       "    </tr>\n",
       "  </tbody>\n",
       "</table>\n",
       "</div>"
      ],
      "text/plain": [
       "        State  Gun Supplier Count  Population  income per capita\n",
       "0      Alaska                 528    728300.0            33129.0\n",
       "1     Alabama                1043   4817678.0            23936.0\n",
       "2    Arkansas                1087   2947036.0            22595.0\n",
       "3     Arizona                1668   6561516.0            25537.0\n",
       "4  California                2224  38066920.0            29906.0"
      ]
     },
     "execution_count": 47,
     "metadata": {},
     "output_type": "execute_result"
    }
   ],
   "source": [
    "reformated_pd = combined_data[['State','Gun Supplier Count', 'Population', 'income per capita']]\n",
    "reformated_pd.head()"
   ]
  },
  {
   "cell_type": "code",
   "execution_count": 48,
   "metadata": {},
   "outputs": [
    {
     "name": "stderr",
     "output_type": "stream",
     "text": [
      "C:\\Users\\hongk\\Anaconda3\\envs\\PythonData\\lib\\site-packages\\ipykernel\\__main__.py:1: SettingWithCopyWarning: \n",
      "A value is trying to be set on a copy of a slice from a DataFrame.\n",
      "Try using .loc[row_indexer,col_indexer] = value instead\n",
      "\n",
      "See the caveats in the documentation: http://pandas.pydata.org/pandas-docs/stable/indexing.html#indexing-view-versus-copy\n",
      "  if __name__ == '__main__':\n"
     ]
    },
    {
     "data": {
      "text/html": [
       "<div>\n",
       "<style scoped>\n",
       "    .dataframe tbody tr th:only-of-type {\n",
       "        vertical-align: middle;\n",
       "    }\n",
       "\n",
       "    .dataframe tbody tr th {\n",
       "        vertical-align: top;\n",
       "    }\n",
       "\n",
       "    .dataframe thead th {\n",
       "        text-align: right;\n",
       "    }\n",
       "</style>\n",
       "<table border=\"1\" class=\"dataframe\">\n",
       "  <thead>\n",
       "    <tr style=\"text-align: right;\">\n",
       "      <th></th>\n",
       "      <th>State</th>\n",
       "      <th>Gun Supplier Count</th>\n",
       "      <th>Population</th>\n",
       "      <th>income per capita</th>\n",
       "      <th>Gun Supplier per Population</th>\n",
       "    </tr>\n",
       "  </thead>\n",
       "  <tbody>\n",
       "    <tr>\n",
       "      <th>0</th>\n",
       "      <td>Alaska</td>\n",
       "      <td>528</td>\n",
       "      <td>728300.0</td>\n",
       "      <td>33129.0</td>\n",
       "      <td>0.000725</td>\n",
       "    </tr>\n",
       "    <tr>\n",
       "      <th>1</th>\n",
       "      <td>Alabama</td>\n",
       "      <td>1043</td>\n",
       "      <td>4817678.0</td>\n",
       "      <td>23936.0</td>\n",
       "      <td>0.000216</td>\n",
       "    </tr>\n",
       "    <tr>\n",
       "      <th>2</th>\n",
       "      <td>Arkansas</td>\n",
       "      <td>1087</td>\n",
       "      <td>2947036.0</td>\n",
       "      <td>22595.0</td>\n",
       "      <td>0.000369</td>\n",
       "    </tr>\n",
       "    <tr>\n",
       "      <th>3</th>\n",
       "      <td>Arizona</td>\n",
       "      <td>1668</td>\n",
       "      <td>6561516.0</td>\n",
       "      <td>25537.0</td>\n",
       "      <td>0.000254</td>\n",
       "    </tr>\n",
       "    <tr>\n",
       "      <th>4</th>\n",
       "      <td>California</td>\n",
       "      <td>2224</td>\n",
       "      <td>38066920.0</td>\n",
       "      <td>29906.0</td>\n",
       "      <td>0.000058</td>\n",
       "    </tr>\n",
       "  </tbody>\n",
       "</table>\n",
       "</div>"
      ],
      "text/plain": [
       "        State  Gun Supplier Count  Population  income per capita  \\\n",
       "0      Alaska                 528    728300.0            33129.0   \n",
       "1     Alabama                1043   4817678.0            23936.0   \n",
       "2    Arkansas                1087   2947036.0            22595.0   \n",
       "3     Arizona                1668   6561516.0            25537.0   \n",
       "4  California                2224  38066920.0            29906.0   \n",
       "\n",
       "   Gun Supplier per Population  \n",
       "0                     0.000725  \n",
       "1                     0.000216  \n",
       "2                     0.000369  \n",
       "3                     0.000254  \n",
       "4                     0.000058  "
      ]
     },
     "execution_count": 48,
     "metadata": {},
     "output_type": "execute_result"
    }
   ],
   "source": [
    "reformated_pd[\"Gun Supplier per Population\"] = (reformated_pd[\"Gun Supplier Count\"] / reformated_pd[\"Population\"])\n",
    "reformated_pd.head()"
   ]
  },
  {
   "cell_type": "code",
   "execution_count": 49,
   "metadata": {},
   "outputs": [
    {
     "data": {
      "image/png": "[encoded data removed]",
      "text/plain": [
       "<matplotlib.figure.Figure at 0x16ffef73128>"
      ]
     },
     "metadata": {},
     "output_type": "display_data"
    },
    {
     "data": {
      "text/plain": [
       "<matplotlib.figure.Figure at 0x16ffeeacda0>"
      ]
     },
     "metadata": {},
     "output_type": "display_data"
    }
   ],
   "source": [
    "plt.scatter(reformated_pd[\"Gun Supplier Count\"], reformated_pd[\"income per capita\"], alpha=0.8)\n",
    "plt.title(\"Gun Supplier vs Income\")\n",
    "plt.xlabel(\"Gun Suppliers\")\n",
    "plt.ylabel(\"Income per Capita\")\n",
    "plt.show()\n",
    "plt.savefig(\"Gun Supplier_vs_income.png\")"
   ]
  },
  {
   "cell_type": "code",
   "execution_count": 50,
   "metadata": {},
   "outputs": [
    {
     "data": {
      "image/png": "[encoded data removed]",
      "text/plain": [
       "<matplotlib.figure.Figure at 0x16ffee7f390>"
      ]
     },
     "metadata": {},
     "output_type": "display_data"
    },
    {
     "data": {
      "text/plain": [
       "<matplotlib.figure.Figure at 0x16ffeea1eb8>"
      ]
     },
     "metadata": {},
     "output_type": "display_data"
    }
   ],
   "source": [
    "plt.scatter(reformated_pd[\"Gun Supplier Count\"], reformated_pd[\"Population\"], alpha=0.8)\n",
    "plt.title(\"Gun Supplier vs Population\")\n",
    "plt.xlabel(\"Gun Suppliers\")\n",
    "plt.ylabel(\"Population\")\n",
    "plt.show()\n",
    "plt.savefig(\"Gun Supplier_vs_Population.png\")"
   ]
  },
  {
   "cell_type": "code",
   "execution_count": 52,
   "metadata": {},
   "outputs": [],
   "source": [
    "#Write data to CSV file\n",
    "file_path = os.path.join(\"Resources\",\"gun_supplier_vs_population_vs_income.csv\")\n",
    "reformated_pd.to_csv(file_path)"
   ]
  },
  {
   "cell_type": "code",
   "execution_count": null,
   "metadata": {},
   "outputs": [],
   "source": []
  }
 ],
 "metadata": {
  "kernelspec": {
   "display_name": "Python [conda env:PythonData]",
   "language": "python",
   "name": "conda-env-PythonData-py"
  },
  "language_info": {
   "codemirror_mode": {
    "name": "ipython",
    "version": 3
   },
   "file_extension": ".py",
   "mimetype": "text/x-python",
   "name": "python",
   "nbconvert_exporter": "python",
   "pygments_lexer": "ipython3",
   "version": "3.6.4"
  }
 },
 "nbformat": 4,
 "nbformat_minor": 2
}
